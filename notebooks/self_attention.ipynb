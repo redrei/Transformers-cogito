{
 "cells": [
  {
   "cell_type": "code",
   "execution_count": 21,
   "id": "7751070f-b568-467d-ba35-f771684c9f0e",
   "metadata": {},
   "outputs": [],
   "source": [
    "import numpy as np\n",
    "import torch\n",
    "from matplotlib import pyplot as plt"
   ]
  },
  {
   "cell_type": "code",
   "execution_count": 2,
   "id": "ad4ec398-172b-489d-ad70-99c4775bf6ce",
   "metadata": {},
   "outputs": [
    {
     "data": {
      "text/plain": [
       "131"
      ]
     },
     "execution_count": 2,
     "metadata": {},
     "output_type": "execute_result"
    }
   ],
   "source": [
    "data_str = \"\"\"\n",
    "A transformer is a passive component that transfers electrical energy from one electrical circuit to another circuit, or multiple circuits. A varying current in any coil of the transformer produces a varying magnetic flux in the transformer's core, which induces a varying electromotive force (EMF) across any other coils wound around the same core. Electrical energy can be transferred between separate coils without a metallic (conductive) connection between the two circuits. Faraday's law of induction, discovered in 1831, describes the induced voltage effect in any coil due to a changing magnetic flux encircled by the coil.\n",
    "\n",
    "Transformers are used to change AC voltage levels, such transformers being termed step-up or step-down type to increase or decrease voltage level, respectively. Transformers can also be used to provide galvanic isolation between circuits as well as to couple stages of signal-processing circuits. Since the invention of the first constant-potential transformer in 1885, transformers have become essential for the transmission, distribution, and utilization of alternating current electric power.[1] A wide range of transformer designs is encountered in electronic and electric power applications. Transformers range in size from RF transformers less than a cubic centimeter in volume, to units weighing hundreds of tons used to interconnect the power grid.\n",
    "\"\"\"\n",
    "\n",
    "# Clean dataset\n",
    "data = data_str.replace(\"\\n\", \"\").split(\" \")\n",
    "\n",
    "# Create embedding dictionary\n",
    "unique_data = list(set(data))\n",
    "n_embedding = len(unique_data)\n",
    "emb_dict = dict([(val, i) for i, val in enumerate(unique_data)])\n",
    "\n",
    "# No. of unique words\n",
    "n_embedding"
   ]
  },
  {
   "cell_type": "code",
   "execution_count": 3,
   "id": "a0860803-af59-4f53-96f3-84cd6f36f1c1",
   "metadata": {},
   "outputs": [],
   "source": [
    "class SelfAttentionWithEmbedding(torch.nn.Module):\n",
    "\n",
    "    def __init__(self, n_init, n_embedding):\n",
    "        super().__init__()\n",
    "\n",
    "        self.scale = np.sqrt(n_init)\n",
    "        \n",
    "        self.Embedding = torch.nn.Embedding(n_embedding, n_init)\n",
    "        \n",
    "        self.Q = torch.nn.Linear(n_init, n_init)\n",
    "        self.K = torch.nn.Linear(n_init, n_init)\n",
    "        self.V = torch.nn.Linear(n_init, n_init)\n",
    "        \n",
    "        self.softmax = torch.nn.Softmax(dim=1)\n",
    "\n",
    "        self.output = torch.nn.Linear(n_init**2, n_embedding)\n",
    "\n",
    "    def forward(self, x):\n",
    "\n",
    "        x_emb = self.Embedding(x)\n",
    "        \n",
    "        x_q = self.Q(x_emb)\n",
    "        x_k = self.K(x_emb)\n",
    "        x_v = self.V(x_emb)\n",
    "\n",
    "        x_k_t = torch.transpose(x_k, 1, 2)\n",
    "        \n",
    "        output = self.softmax(torch.matmul(x_q, x_k_t) / self.scale)\n",
    "        output = torch.matmul(output, x_v)\n",
    "        output = torch.flatten(output, start_dim=1)\n",
    "\n",
    "        output = self.output(output)\n",
    "\n",
    "        return output\n",
    "\n",
    "        "
   ]
  },
  {
   "cell_type": "code",
   "execution_count": 116,
   "id": "394293de-eef7-4436-9579-7168a2a4ba85",
   "metadata": {},
   "outputs": [],
   "source": [
    "def create_dataset(data, n_seq=12):\n",
    "\n",
    "    data_clear = data.replace(\"\\n\", \"\").split(\" \")\n",
    "    unique_data = list(set(data_clear))\n",
    "    n_embedding = len(unique_data)\n",
    "    emb_dict = dict([(val, i) for i, val in enumerate(unique_data)])\n",
    "    data_emb = [emb_dict[i] for i in data_clear]\n",
    "    \n",
    "    dataset_emb = np.array([[k for k in data_emb[i:(i+n_seq)]] for i in range(len(data_emb) - n_seq - 1)])\n",
    "    y = [d[-1] for d in dataset_emb[1:]]\n",
    "    \n",
    "    x = torch.from_numpy(np.array(dataset_emb[:-1]))\n",
    "    y = torch.from_numpy(np.array(y, dtype='int64'))\n",
    "    y_onehot = torch.nn.functional.one_hot(y, num_classes=n_embedding).type(torch.DoubleTensor)\n",
    "    \n",
    "    \n",
    "    return torch.utils.data.TensorDataset(x, y_onehot)\n",
    "\n",
    "    "
   ]
  },
  {
   "cell_type": "code",
   "execution_count": 5,
   "id": "91d00664-f9ab-4170-aeb9-c03856314ad4",
   "metadata": {},
   "outputs": [
    {
     "name": "stdout",
     "output_type": "stream",
     "text": [
      "tensor(0.3053, dtype=torch.float64, grad_fn=<DivBackward0>) errors: tensor(189)\n",
      "tensor(0.3007, dtype=torch.float64, grad_fn=<DivBackward0>) errors: tensor(186)\n",
      "tensor(0.2973, dtype=torch.float64, grad_fn=<DivBackward0>) errors: tensor(183)\n",
      "tensor(0.2938, dtype=torch.float64, grad_fn=<DivBackward0>) errors: tensor(177)\n",
      "tensor(0.2903, dtype=torch.float64, grad_fn=<DivBackward0>) errors: tensor(177)\n",
      "tensor(0.2868, dtype=torch.float64, grad_fn=<DivBackward0>) errors: tensor(178)\n",
      "tensor(0.2831, dtype=torch.float64, grad_fn=<DivBackward0>) errors: tensor(176)\n",
      "tensor(0.2797, dtype=torch.float64, grad_fn=<DivBackward0>) errors: tensor(174)\n",
      "tensor(0.2755, dtype=torch.float64, grad_fn=<DivBackward0>) errors: tensor(172)\n",
      "tensor(0.2718, dtype=torch.float64, grad_fn=<DivBackward0>) errors: tensor(173)\n",
      "tensor(0.2675, dtype=torch.float64, grad_fn=<DivBackward0>) errors: tensor(173)\n",
      "tensor(0.2632, dtype=torch.float64, grad_fn=<DivBackward0>) errors: tensor(173)\n",
      "tensor(0.2586, dtype=torch.float64, grad_fn=<DivBackward0>) errors: tensor(171)\n",
      "tensor(0.2531, dtype=torch.float64, grad_fn=<DivBackward0>) errors: tensor(170)\n",
      "tensor(0.2476, dtype=torch.float64, grad_fn=<DivBackward0>) errors: tensor(167)\n",
      "tensor(0.2410, dtype=torch.float64, grad_fn=<DivBackward0>) errors: tensor(163)\n",
      "tensor(0.2340, dtype=torch.float64, grad_fn=<DivBackward0>) errors: tensor(163)\n",
      "tensor(0.2257, dtype=torch.float64, grad_fn=<DivBackward0>) errors: tensor(158)\n",
      "tensor(0.2167, dtype=torch.float64, grad_fn=<DivBackward0>) errors: tensor(152)\n",
      "tensor(0.2064, dtype=torch.float64, grad_fn=<DivBackward0>) errors: tensor(144)\n",
      "tensor(0.1957, dtype=torch.float64, grad_fn=<DivBackward0>) errors: tensor(135)\n",
      "tensor(0.1841, dtype=torch.float64, grad_fn=<DivBackward0>) errors: tensor(123)\n",
      "tensor(0.1708, dtype=torch.float64, grad_fn=<DivBackward0>) errors: tensor(111)\n",
      "tensor(0.1581, dtype=torch.float64, grad_fn=<DivBackward0>) errors: tensor(96)\n",
      "tensor(0.1447, dtype=torch.float64, grad_fn=<DivBackward0>) errors: tensor(80)\n",
      "tensor(0.1314, dtype=torch.float64, grad_fn=<DivBackward0>) errors: tensor(64)\n",
      "tensor(0.1194, dtype=torch.float64, grad_fn=<DivBackward0>) errors: tensor(57)\n",
      "tensor(0.1073, dtype=torch.float64, grad_fn=<DivBackward0>) errors: tensor(48)\n",
      "tensor(0.0963, dtype=torch.float64, grad_fn=<DivBackward0>) errors: tensor(38)\n",
      "tensor(0.0859, dtype=torch.float64, grad_fn=<DivBackward0>) errors: tensor(30)\n",
      "tensor(0.0765, dtype=torch.float64, grad_fn=<DivBackward0>) errors: tensor(25)\n",
      "tensor(0.0686, dtype=torch.float64, grad_fn=<DivBackward0>) errors: tensor(16)\n",
      "tensor(0.0611, dtype=torch.float64, grad_fn=<DivBackward0>) errors: tensor(11)\n",
      "tensor(0.0543, dtype=torch.float64, grad_fn=<DivBackward0>) errors: tensor(11)\n",
      "tensor(0.0480, dtype=torch.float64, grad_fn=<DivBackward0>) errors: tensor(9)\n",
      "tensor(0.0428, dtype=torch.float64, grad_fn=<DivBackward0>) errors: tensor(7)\n",
      "tensor(0.0383, dtype=torch.float64, grad_fn=<DivBackward0>) errors: tensor(6)\n",
      "tensor(0.0343, dtype=torch.float64, grad_fn=<DivBackward0>) errors: tensor(6)\n",
      "tensor(0.0306, dtype=torch.float64, grad_fn=<DivBackward0>) errors: tensor(5)\n",
      "tensor(0.0273, dtype=torch.float64, grad_fn=<DivBackward0>) errors: tensor(4)\n",
      "tensor(0.0247, dtype=torch.float64, grad_fn=<DivBackward0>) errors: tensor(4)\n",
      "tensor(0.0220, dtype=torch.float64, grad_fn=<DivBackward0>) errors: tensor(4)\n",
      "tensor(0.0199, dtype=torch.float64, grad_fn=<DivBackward0>) errors: tensor(4)\n",
      "tensor(0.0180, dtype=torch.float64, grad_fn=<DivBackward0>) errors: tensor(3)\n",
      "tensor(0.0162, dtype=torch.float64, grad_fn=<DivBackward0>) errors: tensor(2)\n",
      "tensor(0.0147, dtype=torch.float64, grad_fn=<DivBackward0>) errors: tensor(2)\n",
      "tensor(0.0134, dtype=torch.float64, grad_fn=<DivBackward0>) errors: tensor(1)\n",
      "tensor(0.0122, dtype=torch.float64, grad_fn=<DivBackward0>) errors: tensor(1)\n",
      "tensor(0.0112, dtype=torch.float64, grad_fn=<DivBackward0>) errors: tensor(1)\n",
      "tensor(0.0103, dtype=torch.float64, grad_fn=<DivBackward0>) errors: tensor(0)\n",
      "tensor(0.0095, dtype=torch.float64, grad_fn=<DivBackward0>) errors: tensor(0)\n",
      "tensor(0.0087, dtype=torch.float64, grad_fn=<DivBackward0>) errors: tensor(0)\n",
      "tensor(0.0081, dtype=torch.float64, grad_fn=<DivBackward0>) errors: tensor(0)\n",
      "tensor(0.0075, dtype=torch.float64, grad_fn=<DivBackward0>) errors: tensor(0)\n",
      "tensor(0.0070, dtype=torch.float64, grad_fn=<DivBackward0>) errors: tensor(0)\n",
      "tensor(0.0065, dtype=torch.float64, grad_fn=<DivBackward0>) errors: tensor(0)\n",
      "tensor(0.0061, dtype=torch.float64, grad_fn=<DivBackward0>) errors: tensor(0)\n",
      "tensor(0.0057, dtype=torch.float64, grad_fn=<DivBackward0>) errors: tensor(0)\n",
      "tensor(0.0053, dtype=torch.float64, grad_fn=<DivBackward0>) errors: tensor(0)\n",
      "tensor(0.0050, dtype=torch.float64, grad_fn=<DivBackward0>) errors: tensor(0)\n",
      "tensor(0.0047, dtype=torch.float64, grad_fn=<DivBackward0>) errors: tensor(0)\n",
      "tensor(0.0044, dtype=torch.float64, grad_fn=<DivBackward0>) errors: tensor(0)\n",
      "tensor(0.0042, dtype=torch.float64, grad_fn=<DivBackward0>) errors: tensor(0)\n",
      "tensor(0.0040, dtype=torch.float64, grad_fn=<DivBackward0>) errors: tensor(0)\n",
      "tensor(0.0038, dtype=torch.float64, grad_fn=<DivBackward0>) errors: tensor(0)\n",
      "tensor(0.0036, dtype=torch.float64, grad_fn=<DivBackward0>) errors: tensor(0)\n",
      "tensor(0.0034, dtype=torch.float64, grad_fn=<DivBackward0>) errors: tensor(0)\n",
      "tensor(0.0032, dtype=torch.float64, grad_fn=<DivBackward0>) errors: tensor(0)\n",
      "tensor(0.0031, dtype=torch.float64, grad_fn=<DivBackward0>) errors: tensor(0)\n",
      "tensor(0.0030, dtype=torch.float64, grad_fn=<DivBackward0>) errors: tensor(0)\n",
      "tensor(0.0029, dtype=torch.float64, grad_fn=<DivBackward0>) errors: tensor(0)\n",
      "tensor(0.0027, dtype=torch.float64, grad_fn=<DivBackward0>) errors: tensor(0)\n",
      "tensor(0.0026, dtype=torch.float64, grad_fn=<DivBackward0>) errors: tensor(0)\n",
      "tensor(0.0025, dtype=torch.float64, grad_fn=<DivBackward0>) errors: tensor(0)\n",
      "tensor(0.0024, dtype=torch.float64, grad_fn=<DivBackward0>) errors: tensor(0)\n",
      "tensor(0.0023, dtype=torch.float64, grad_fn=<DivBackward0>) errors: tensor(0)\n",
      "tensor(0.0022, dtype=torch.float64, grad_fn=<DivBackward0>) errors: tensor(0)\n",
      "tensor(0.0021, dtype=torch.float64, grad_fn=<DivBackward0>) errors: tensor(0)\n",
      "tensor(0.0020, dtype=torch.float64, grad_fn=<DivBackward0>) errors: tensor(0)\n",
      "tensor(0.0020, dtype=torch.float64, grad_fn=<DivBackward0>) errors: tensor(0)\n",
      "tensor(0.0019, dtype=torch.float64, grad_fn=<DivBackward0>) errors: tensor(0)\n",
      "tensor(0.0018, dtype=torch.float64, grad_fn=<DivBackward0>) errors: tensor(0)\n",
      "tensor(0.0018, dtype=torch.float64, grad_fn=<DivBackward0>) errors: tensor(0)\n",
      "tensor(0.0017, dtype=torch.float64, grad_fn=<DivBackward0>) errors: tensor(0)\n",
      "tensor(0.0017, dtype=torch.float64, grad_fn=<DivBackward0>) errors: tensor(0)\n",
      "tensor(0.0016, dtype=torch.float64, grad_fn=<DivBackward0>) errors: tensor(0)\n",
      "tensor(0.0016, dtype=torch.float64, grad_fn=<DivBackward0>) errors: tensor(0)\n",
      "tensor(0.0015, dtype=torch.float64, grad_fn=<DivBackward0>) errors: tensor(0)\n",
      "tensor(0.0014, dtype=torch.float64, grad_fn=<DivBackward0>) errors: tensor(0)\n",
      "tensor(0.0014, dtype=torch.float64, grad_fn=<DivBackward0>) errors: tensor(0)\n",
      "tensor(0.0014, dtype=torch.float64, grad_fn=<DivBackward0>) errors: tensor(0)\n",
      "tensor(0.0013, dtype=torch.float64, grad_fn=<DivBackward0>) errors: tensor(0)\n",
      "tensor(0.0013, dtype=torch.float64, grad_fn=<DivBackward0>) errors: tensor(0)\n",
      "tensor(0.0012, dtype=torch.float64, grad_fn=<DivBackward0>) errors: tensor(0)\n",
      "tensor(0.0012, dtype=torch.float64, grad_fn=<DivBackward0>) errors: tensor(0)\n",
      "tensor(0.0012, dtype=torch.float64, grad_fn=<DivBackward0>) errors: tensor(0)\n",
      "tensor(0.0011, dtype=torch.float64, grad_fn=<DivBackward0>) errors: tensor(0)\n",
      "tensor(0.0011, dtype=torch.float64, grad_fn=<DivBackward0>) errors: tensor(0)\n",
      "tensor(0.0011, dtype=torch.float64, grad_fn=<DivBackward0>) errors: tensor(0)\n",
      "tensor(0.0011, dtype=torch.float64, grad_fn=<DivBackward0>) errors: tensor(0)\n"
     ]
    }
   ],
   "source": [
    "# Create self attention layer with embeddings\n",
    "layer = SelfAttentionWithEmbedding(12,  # Input sequence length\n",
    "                                   n_embedding  # Embedding layer output no. dimensions & layer output no. dimensions\n",
    "                                  )\n",
    "\n",
    "# Create dataset from string data\n",
    "dataset = create_dataset(data_str)\n",
    "\n",
    "# Create pytorch model\n",
    "model = torch.nn.Sequential()\n",
    "model.add_module('fc1', layer)\n",
    "\n",
    "# Create data loader\n",
    "train_loader = torch.utils.data.DataLoader(dataset, batch_size=16, shuffle=True)\n",
    "\n",
    "# Define loss and optimizer\n",
    "loss_fn = torch.nn.CrossEntropyLoss()\n",
    "optimizer = torch.optim.Adam(model.parameters(), lr=0.0005)\n",
    "\n",
    "# Train for 100 epochs\n",
    "for t in range(100):\n",
    "\n",
    "    # Loss per epoch & no. of errors\n",
    "    epoch_loss = 0\n",
    "    errors = 0\n",
    "\n",
    "    # For every batch\n",
    "    for batch_idx, (x, y) in enumerate(train_loader):\n",
    "        \n",
    "        # Make predictions with the current parameters\n",
    "        y_pred = model(x)\n",
    "        \n",
    "        # Compute the loss value.\n",
    "        loss = loss_fn(y_pred, y)\n",
    "        \n",
    "        # Add loss divided by number of samples per batch\n",
    "        epoch_loss += torch.sum(loss) / 16\n",
    "        \n",
    "        # Add number or wrong predicted words\n",
    "        errors += torch.sum(torch.argmax(y_pred, dim=1) != torch.argmax(y, dim=1))\n",
    "        \n",
    "        # Update the model's parameters\n",
    "        optimizer.zero_grad()\n",
    "        loss.backward()\n",
    "        optimizer.step()\n",
    "\n",
    "    # Print loss and errors per epoch\n",
    "    print(epoch_loss / (batch_idx + 1), 'errors:', errors)"
   ]
  },
  {
   "cell_type": "code",
   "execution_count": 6,
   "id": "d5f35f1f-cac7-439b-b80f-e82d1f51be00",
   "metadata": {},
   "outputs": [
    {
     "data": {
      "text/plain": [
       "(torch.return_types.max(\n",
       " values=tensor([0.9888, 0.9976, 0.9924, 0.9776, 0.9851, 0.9933, 0.9914, 0.9836, 0.9924,\n",
       "         0.9827, 0.9904, 0.9848, 0.9942], grad_fn=<MaxBackward0>),\n",
       " indices=tensor([ 82, 102,  65,  66,  79,  49,   3,  74,  97,  99,  93,  84,   8])),\n",
       " tensor([ 82, 102,  65,  66,  79,  49,   3,  74,  97,  99,  93,  84,   8]))"
      ]
     },
     "execution_count": 6,
     "metadata": {},
     "output_type": "execute_result"
    }
   ],
   "source": [
    "# Print max values of model's predictions and targer for one batch \n",
    "torch.max(model[0].softmax(model(x)), dim=1), torch.argmax(y, dim=1)"
   ]
  },
  {
   "cell_type": "code",
   "execution_count": 7,
   "id": "4ff0d935-b086-433b-8cca-40b93c88861d",
   "metadata": {},
   "outputs": [
    {
     "data": {
      "text/plain": [
       "(tensor([ 53, 125,  17,  31,  60,  22,  74,  38,   5,  26,  10, 113],\n",
       "        dtype=torch.int32),\n",
       " tensor(82))"
      ]
     },
     "execution_count": 7,
     "metadata": {},
     "output_type": "execute_result"
    }
   ],
   "source": [
    "# Single traing sample and label\n",
    "x[0], torch.argmax(y[0])"
   ]
  },
  {
   "cell_type": "markdown",
   "id": "2f634c23-49b6-4d1e-ae8b-5c3b3c50b432",
   "metadata": {},
   "source": [
    "# Positional embedding layer"
   ]
  },
  {
   "cell_type": "code",
   "execution_count": 128,
   "id": "cacd109b-3299-47f5-b0fe-2e33f4f8dd7a",
   "metadata": {},
   "outputs": [],
   "source": [
    "class PositinalEmbeddingLayer(torch.nn.Module):\n",
    "\n",
    "    def __init__(self, seq_length, n_embedding):\n",
    "        super().__init__()\n",
    "\n",
    "        emb_arr = np.zeros((seq_length, n_embedding))\n",
    "\n",
    "        for i in range(seq_length):\n",
    "            for k in range(n_embedding):\n",
    "\n",
    "                if k % 2 == 0:\n",
    "                    emb_arr[i, k] = torch.sin(torch.Tensor([i / (10000**(k/n_embedding))]))\n",
    "                else:\n",
    "                    emb_arr[i, k] = torch.cos(torch.Tensor([i / (10000**((k - 1)/n_embedding))]))\n",
    "\n",
    "        self.emb_arr = torch.Tensor(emb_arr)\n",
    "\n",
    "\n",
    "    def forward(self, x):\n",
    "\n",
    "        return x + self.emb_arr\n",
    "\n",
    "        "
   ]
  },
  {
   "cell_type": "code",
   "execution_count": 129,
   "id": "905a2c7f-2556-4df6-919c-e7da346d5eaf",
   "metadata": {},
   "outputs": [],
   "source": [
    "PEL = PositinalEmbeddingLayer(12, 24)"
   ]
  },
  {
   "cell_type": "code",
   "execution_count": 130,
   "id": "3984baca-6772-4ace-89f9-5b857c87a953",
   "metadata": {},
   "outputs": [
    {
     "data": {
      "image/png": "[encoded data removed]",
      "text/plain": [
       "<Figure size 640x480 with 1 Axes>"
      ]
     },
     "metadata": {},
     "output_type": "display_data"
    }
   ],
   "source": [
    "plt.imshow(PEL.emb_arr)\n",
    "plt.title( \"2-D Heat Map\" )\n",
    "plt.show()"
   ]
  },
  {
   "cell_type": "markdown",
   "id": "b6d6d8c4-2d73-4696-a5c9-0f41de9db307",
   "metadata": {},
   "source": [
    "## Train"
   ]
  },
  {
   "cell_type": "code",
   "execution_count": 111,
   "id": "5e6361ca-b092-4aa0-9bd6-1e67600ac3eb",
   "metadata": {},
   "outputs": [],
   "source": [
    "class SelfAttention(torch.nn.Module):\n",
    "\n",
    "    def __init__(self, n_init, n_seq, n_output):\n",
    "        super().__init__()\n",
    "\n",
    "        self.scale = np.sqrt(n_init)\n",
    "        \n",
    "        self.Q = torch.nn.Linear(n_init, n_seq)\n",
    "        self.K = torch.nn.Linear(n_init, n_seq)\n",
    "        self.V = torch.nn.Linear(n_init, n_init)\n",
    "        \n",
    "        self.softmax = torch.nn.Softmax(dim=1)\n",
    "\n",
    "        self.output = torch.nn.Linear(n_init * n_seq, n_output)\n",
    "\n",
    "    def forward(self, x):\n",
    "        \n",
    "        x_q = self.Q(x)\n",
    "        x_k = self.K(x)\n",
    "        x_v = self.V(x)\n",
    "\n",
    "        x_k_t = torch.transpose(x_k, 1, 2)\n",
    "        \n",
    "        output = self.softmax(torch.matmul(x_q, x_k_t) / self.scale)\n",
    "        output = torch.matmul(output, x_v)\n",
    "        output = torch.flatten(output, start_dim=1)\n",
    "\n",
    "        output = self.output(output)\n",
    "\n",
    "        return output\n",
    "\n",
    "        "
   ]
  },
  {
   "cell_type": "code",
   "execution_count": 124,
   "id": "05e5295a-9055-4866-bfc3-573fd8ed2874",
   "metadata": {},
   "outputs": [
    {
     "data": {
      "image/png": "[encoded data removed]",
      "text/plain": [
       "<Figure size 640x480 with 1 Axes>"
      ]
     },
     "metadata": {},
     "output_type": "display_data"
    },
    {
     "data": {
      "image/png": "[encoded data removed]",
      "text/plain": [
       "<Figure size 640x480 with 1 Axes>"
      ]
     },
     "metadata": {},
     "output_type": "display_data"
    },
    {
     "data": {
      "image/png": "[encoded data removed]",
      "text/plain": [
       "<Figure size 640x480 with 1 Axes>"
      ]
     },
     "metadata": {},
     "output_type": "display_data"
    }
   ],
   "source": [
    "emb_dim = 24\n",
    "seq_length = 12\n",
    "batch_size = 16\n",
    "\n",
    "# Create dataset from string data\n",
    "dataset = create_dataset(data_str, n_seq=seq_length)\n",
    "\n",
    "# Create pytorch model\n",
    "model = torch.nn.Sequential()\n",
    "model.add_module('fc1', torch.nn.Embedding(n_embedding, emb_dim))\n",
    "model.add_module('fc2', PositinalEmbeddingLayer(seq_length, emb_dim))\n",
    "model.add_module('fc3', SelfAttention(emb_dim, seq_length, n_embedding))\n",
    "\n",
    "\n",
    "# Create data loader\n",
    "train_loader = torch.utils.data.DataLoader(dataset,\n",
    "                                           batch_size=batch_size,\n",
    "                                           shuffle=True)\n",
    "\n",
    "# Define loss and optimizer\n",
    "loss_fn = torch.nn.CrossEntropyLoss()\n",
    "optimizer = torch.optim.Adam(model.parameters(), lr=0.0005)\n",
    "\n",
    "loss_arr = []\n",
    "err_arr = []\n",
    "\n",
    "# Train for 100 epochs\n",
    "for t in range(100):\n",
    "\n",
    "    # Loss per epoch & no. of errors\n",
    "    epoch_loss = 0\n",
    "    errors = 0\n",
    "\n",
    "    # For every batch\n",
    "    for batch_idx, (x, y) in enumerate(train_loader):\n",
    "        \n",
    "        # Make predictions with the current parameters\n",
    "        y_pred = model(x)\n",
    "        \n",
    "        # Compute the loss value.\n",
    "        loss = loss_fn(y_pred, y)\n",
    "        \n",
    "        # Add loss divided by number of samples per batch\n",
    "        epoch_loss += torch.sum(loss)\n",
    "        \n",
    "        # Add number or wrong predicted words\n",
    "        errors += torch.sum(torch.argmax(y_pred, dim=1) != torch.argmax(y, dim=1))\n",
    "        \n",
    "        # Update the model's parameters\n",
    "        optimizer.zero_grad()\n",
    "        loss.backward()\n",
    "        optimizer.step()\n",
    "\n",
    "    # Print loss and errors per epoch\n",
    "    # print(epoch_loss / (batch_idx + 1), 'errors:', errors)\n",
    "    loss_arr.append((epoch_loss / len(dataset)).detach().numpy())\n",
    "    err_arr.append(errors.numpy())\n",
    "\n",
    "plt.plot(loss_arr, label='loss')\n",
    "plt.legend(loc='upper right')\n",
    "plt.title(f'finale loss: {loss_arr[-1]:.6f}')\n",
    "plt.show()\n",
    "\n",
    "plt.plot(err_arr, label='errors', color='red')\n",
    "plt.legend(loc='upper right')\n",
    "plt.show()\n",
    "\n",
    "plt.imshow(model[1].emb_arr)\n",
    "plt.xlabel('Embedding dim')\n",
    "plt.ylabel('Word position')\n",
    "plt.title(\"possitional encodings\")\n",
    "plt.show()"
   ]
  },
  {
   "cell_type": "code",
   "execution_count": null,
   "id": "fbdbd980-6ab9-42c4-9828-b617812931fc",
   "metadata": {},
   "outputs": [],
   "source": []
  }
 ],
 "metadata": {
  "kernelspec": {
   "display_name": "Python 3 (ipykernel)",
   "language": "python",
   "name": "python3"
  },
  "language_info": {
   "codemirror_mode": {
    "name": "ipython",
    "version": 3
   },
   "file_extension": ".py",
   "mimetype": "text/x-python",
   "name": "python",
   "nbconvert_exporter": "python",
   "pygments_lexer": "ipython3",
   "version": "3.9.6"
  }
 },
 "nbformat": 4,
 "nbformat_minor": 5
}
